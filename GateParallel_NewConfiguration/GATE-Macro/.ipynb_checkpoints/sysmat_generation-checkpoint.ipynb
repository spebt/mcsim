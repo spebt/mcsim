{
 "cells": [
  {
   "cell_type": "code",
   "execution_count": null,
   "id": "dd41c3f5",
   "metadata": {},
   "outputs": [],
   "source": [
    "import pandas as pd\n",
    "import glob\n",
    "\n",
    "# Path to the directory containing system matrix files\n",
    "directory = \"/vscratch/grp-rutaoyao/Tridev/\"\n",
    "\n",
    "# Find all system matrix files\n",
    "system_matrix_files = glob.glob(directory + \"system_matrix_*.csv\")\n",
    "\n",
    "# Initialize an empty list to hold dataframes\n",
    "dataframes = []\n",
    "\n",
    "# Loop through each file and append it to the list\n",
    "for file in system_matrix_files:\n",
    "    df = pd.read_csv(file)\n",
    "    dataframes.append(df)\n",
    "\n",
    "# Combine all dataframes into one\n",
    "combined_system_matrix = pd.concat(dataframes, ignore_index=True)\n",
    "\n",
    "# Save the combined matrix as a CSV\n",
    "output_file = directory + \"combined_system_matrix.csv\"\n",
    "combined_system_matrix.to_csv(output_file, index=False)\n",
    "\n",
    "print(f\"Combined system matrix saved to {output_file}\")\n"
   ]
  },
  {
   "cell_type": "code",
   "execution_count": null,
   "id": "e2838783",
   "metadata": {},
   "outputs": [],
   "source": [
    "import pandas as pd\n",
    "import matplotlib.pyplot as plt\n",
    "import seaborn as sns\n",
    "\n",
    "# Load the combined system matrix\n",
    "combined_file = \"/vscratch/grp-rutaoyao/Tridev/combined_system_matrix.csv\"\n",
    "combined_system_matrix = pd.read_csv(combined_file)\n",
    "\n",
    "# Function to visualize PPDF for a specific detector\n",
    "def visualize_ppdf(detector_id):\n",
    "    # Filter data for the selected detector\n",
    "    detector_data = combined_system_matrix[combined_system_matrix[\"detector_id\"] == detector_id]\n",
    "\n",
    "    if detector_data.empty:\n",
    "        print(f\"No data found for detector_id {detector_id}\")\n",
    "        return\n",
    "\n",
    "    # Pivot the data for heatmap plotting\n",
    "    heatmap_data = detector_data.pivot(\"sourcePosY\", \"sourcePosX\", \"normalized_count\")\n",
    "\n",
    "    # Plot the heatmap\n",
    "    plt.figure(figsize=(10, 8))\n",
    "    sns.heatmap(\n",
    "        heatmap_data,\n",
    "        cmap=\"viridis\",\n",
    "        cbar_kws={\"label\": \"Normalized PPDF\"},\n",
    "        xticklabels=True,\n",
    "        yticklabels=True,\n",
    "    )\n",
    "    plt.title(f\"PPDF Visualization for Detector ID {detector_id}\")\n",
    "    plt.xlabel(\"Source Position X\")\n",
    "    plt.ylabel(\"Source Position Y\")\n",
    "    plt.show()\n",
    "\n",
    "# Example usage: Visualize PPDF for detector ID 42\n",
    "visualize_ppdf(115)\n"
   ]
  }
 ],
 "metadata": {
  "kernelspec": {
   "display_name": "Python 3 (ipykernel)",
   "language": "python",
   "name": "python3"
  },
  "language_info": {
   "codemirror_mode": {
    "name": "ipython",
    "version": 3
   },
   "file_extension": ".py",
   "mimetype": "text/x-python",
   "name": "python",
   "nbconvert_exporter": "python",
   "pygments_lexer": "ipython3",
   "version": "3.9.6"
  }
 },
 "nbformat": 4,
 "nbformat_minor": 5
}
